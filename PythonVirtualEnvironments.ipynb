{
 "cells": [
  {
   "cell_type": "markdown",
   "id": "0ffe658c-2a0a-4c35-8dce-3d38ef6a1bcb",
   "metadata": {},
   "source": [
    "# Python Virtual Environments"
   ]
  },
  {
   "cell_type": "markdown",
   "id": "01589461-19f9-40fb-8388-37558310a6a2",
   "metadata": {},
   "source": [
    "## What is a Virtual Environment?\n",
    "\n",
    "A combination of settings (environment variables) that control what Python interpreter is used and where the intepreter finds python modules."
   ]
  },
  {
   "cell_type": "markdown",
   "id": "00620af3-5004-4839-b16c-a7d45b8901c4",
   "metadata": {},
   "source": [
    "## Why to use Virtual Environments?\n",
    "\n",
    "* Avoid messing up packages in system install of Python\n",
    "* Maintain per-project sets of packages (different projects require different requirements)\n",
    "* Ability to reproduce an environment"
   ]
  },
  {
   "cell_type": "markdown",
   "id": "608cc79d-caad-426f-83ac-38af0dc25058",
   "metadata": {},
   "source": [
    "## Python Virtual Environment Tools\n",
    "\n",
    "* `virtualenv` (For Python2)\n",
    "* `venv` and `pip`\n",
    "* `conda`\n",
    "* `pipenv`\n",
    "* `poetry`"
   ]
  },
  {
   "cell_type": "markdown",
   "id": "85a43ce2-8d99-4125-99d4-54535363dd87",
   "metadata": {},
   "source": [
    "## venv and pip\n",
    "\n",
    "* `venv` module is used to create virtual environment\n",
    "* `venv` may not have been installed when python was installed.\n",
    "  * On Windows run installer and look in optional components\n",
    "  * On Linux run a command similar to `sudo apt-get install python3-venv`\n",
    "* `pip` is used to manage packages within the virtual environment"
   ]
  },
  {
   "cell_type": "code",
   "execution_count": null,
   "id": "6c65844d-e5a3-4e1f-b2ed-047bb2aab33b",
   "metadata": {},
   "outputs": [],
   "source": []
  },
  {
   "cell_type": "code",
   "execution_count": null,
   "id": "c82bcea0-c53a-4b59-aebf-8cce4eb5cbdd",
   "metadata": {},
   "outputs": [],
   "source": []
  },
  {
   "cell_type": "code",
   "execution_count": null,
   "id": "0a6d348a-e9c0-4921-b18d-88c099e2e75e",
   "metadata": {},
   "outputs": [],
   "source": []
  },
  {
   "cell_type": "markdown",
   "id": "9844f2b3-266e-4671-a711-d869faf2d17b",
   "metadata": {},
   "source": [
    "## Resources\n",
    "\n",
    "* https://realpython.com/python-virtual-environments-a-primer/\n",
    "* https://towardsdatascience.com/comparing-python-virtual-environment-tools-9a6543643a44\n",
    "* https://towardsdatascience.com/python-virtual-environments-made-easy-fe0c603fe601"
   ]
  }
 ],
 "metadata": {
  "kernelspec": {
   "display_name": "Python 3 (ipykernel)",
   "language": "python",
   "name": "python3"
  },
  "language_info": {
   "codemirror_mode": {
    "name": "ipython",
    "version": 3
   },
   "file_extension": ".py",
   "mimetype": "text/x-python",
   "name": "python",
   "nbconvert_exporter": "python",
   "pygments_lexer": "ipython3",
   "version": "3.10.12"
  }
 },
 "nbformat": 4,
 "nbformat_minor": 5
}
