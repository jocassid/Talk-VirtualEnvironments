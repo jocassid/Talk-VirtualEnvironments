{
 "cells": [
  {
   "cell_type": "markdown",
   "id": "0ffe658c-2a0a-4c35-8dce-3d38ef6a1bcb",
   "metadata": {
    "editable": true,
    "slideshow": {
     "slide_type": "slide"
    },
    "tags": []
   },
   "source": [
    "# Python Virtual Environments"
   ]
  },
  {
   "cell_type": "markdown",
   "id": "01589461-19f9-40fb-8388-37558310a6a2",
   "metadata": {
    "editable": true,
    "slideshow": {
     "slide_type": "slide"
    },
    "tags": []
   },
   "source": [
    "## What is a Virtual Environment?\n",
    "\n",
    "A combination of settings (environment variables) that control what Python interpreter is used and where the intepreter finds python modules."
   ]
  },
  {
   "cell_type": "markdown",
   "id": "00620af3-5004-4839-b16c-a7d45b8901c4",
   "metadata": {
    "editable": true,
    "slideshow": {
     "slide_type": "slide"
    },
    "tags": []
   },
   "source": [
    "## Why to use Virtual Environments?\n",
    "\n",
    "* Avoid messing up packages in system install of Python\n",
    "* Maintain per-project sets of packages (different projects require different requirements)\n",
    "* Ability to reproduce an environment"
   ]
  },
  {
   "cell_type": "markdown",
   "id": "608cc79d-caad-426f-83ac-38af0dc25058",
   "metadata": {
    "editable": true,
    "slideshow": {
     "slide_type": "slide"
    },
    "tags": []
   },
   "source": [
    "## Python Virtual Environment Tools\n",
    "\n",
    "* `virtualenv` (For Python2)\n",
    "* `venv` and `pip`\n",
    "* `conda`\n",
    "* `pipenv`\n",
    "* `poetry`"
   ]
  },
  {
   "cell_type": "markdown",
   "id": "85a43ce2-8d99-4125-99d4-54535363dd87",
   "metadata": {
    "editable": true,
    "slideshow": {
     "slide_type": "slide"
    },
    "tags": []
   },
   "source": [
    "## venv and pip\n",
    "\n",
    "* `venv` module is used to create virtual environment\n",
    "* `venv` may not have been installed when python was installed.\n",
    "  * On Windows run installer and look in optional components\n",
    "  * On Linux run a command similar to `sudo apt-get install python3-venv`\n",
    "* `pip` is used to manage packages within the virtual environment"
   ]
  },
  {
   "cell_type": "markdown",
   "id": "31eb55db-dd31-4a61-b19a-05034b48eb5f",
   "metadata": {
    "editable": true,
    "slideshow": {
     "slide_type": "slide"
    },
    "tags": []
   },
   "source": [
    "## Creating a Virtual Environment with venv\n",
    "\n",
    "```bash\n",
    "john@desktop:~$ cd Projects\n",
    "john@desktop:~/Projects$ mkdir my_project1  # project files here\n",
    "john@desktop:~/Projects$ python3 -m venv my_project1-venv  # virtual environment\n",
    "```"
   ]
  },
  {
   "cell_type": "markdown",
   "id": "d0cfc11b-7ad9-41fd-b1c7-9dd089f8931d",
   "metadata": {
    "editable": true,
    "slideshow": {
     "slide_type": "slide"
    },
    "tags": []
   },
   "source": [
    "## The Resulting Directories\n",
    "\n",
    "```bash\n",
    "john@desktop:~/Projects$ ls -l\n",
    "total 16\n",
    "drwxrwxr-x 2 john john 4096 Sep 23 22:08 my_project1\n",
    "drwxrwxr-x 6 john john 4096 Sep 23 22:09 my_project1-venv\n",
    "```"
   ]
  },
  {
   "cell_type": "markdown",
   "id": "cf5d2f40-f896-4f07-9d6a-125a13b71d2b",
   "metadata": {
    "editable": true,
    "raw_mimetype": "",
    "slideshow": {
     "slide_type": "notes"
    },
    "tags": []
   },
   "source": [
    "I tend to place the virtual environment directory next to the directory containing my source code.\n",
    "* If the source code directory gets messed up I can erase it and clone the repo.\n",
    "* If the virtual environment gets messed up, I can erase it and recreate it using the requirements.txt file that is included with the source code."
   ]
  },
  {
   "cell_type": "markdown",
   "id": "22e0686a-38f4-42b9-8458-36e2940273d9",
   "metadata": {
    "editable": true,
    "slideshow": {
     "slide_type": ""
    },
    "tags": []
   },
   "source": [
    "## Contents of Virtual Environment Directory\n",
    "\n",
    "```bash\n",
    "john@desktop:~/Projects$ ls my_project1-venv/\n",
    "bin  include  lib  lib64  pyvenv.cfg  share\n",
    "```\n",
    "\n",
    "* In windows you have a `Scripts` directory instead of `bin`.  This directory contains python executable for this virtual environment.\n",
    "* Packages will be installed in the `lib` directory\n"
   ]
  },
  {
   "cell_type": "markdown",
   "id": "7d34e83a-6121-4344-98fe-7067e6748a2e",
   "metadata": {
    "editable": true,
    "slideshow": {
     "slide_type": "slide"
    },
    "tags": []
   },
   "source": [
    "## Activating Your Virtual Environment\n",
    "\n",
    "**Linux & Mac**\n",
    "\n",
    "`john@desktop:~/Projects$ source ./my_project1-venv/bin/activate`\n",
    "\n",
    "**Windows (PowerShell)**\n",
    "\n",
    "`PS C:\\Users\\john\\Projects> & my_project1-venv\\Scripts\\activate.ps1`\n",
    "\n",
    "**Windows (CMD/DOS Prompt)**\n",
    "\n",
    "`C:\\Users\\john\\Projects> my_project1\\Scripts\\activate.bat`"
   ]
  },
  {
   "cell_type": "markdown",
   "id": "364db699-de7a-4e20-92fe-9fd8b8816a5c",
   "metadata": {
    "editable": true,
    "slideshow": {
     "slide_type": "slide"
    },
    "tags": []
   },
   "source": [
    "## Your Virtual Env is Now Active\n",
    "\n",
    "Note that your command line prompted has been altered to indicate the virtual environment is active\n",
    "\n",
    "`(my_project1-venv) john@desktop:~/Projects$`"
   ]
  },
  {
   "cell_type": "markdown",
   "id": "69c692f8-e39d-4f24-8ca6-676304b5a43c",
   "metadata": {
    "editable": true,
    "slideshow": {
     "slide_type": ""
    },
    "tags": []
   },
   "source": [
    "## Get Help: `pip help`\n",
    "\n",
    "```bash\n",
    "(my_project1-venv) john@desktop:~/Projects$ pip help\n",
    "\n",
    "Usage:   \n",
    "  pip <command> [options]\n",
    "\n",
    "Commands:\n",
    "  install                     Install packages.\n",
    "  download                    Download packages.\n",
    "...\n",
    "```"
   ]
  },
  {
   "cell_type": "markdown",
   "id": "f6e9d2bd-755a-4638-a14d-55218b56f7ca",
   "metadata": {
    "editable": true,
    "slideshow": {
     "slide_type": ""
    },
    "tags": []
   },
   "source": [
    "## Get Help for Specific Command\n",
    "\n",
    "```bash\n",
    "(my_project1-venv) john@desktop:~/Projects$ pip help install\n",
    "\n",
    "Usage:   \n",
    "  pip install [options] <requirement specifier> [package-index-options] ...\n",
    "  pip install [options] -r <requirements file> [package-index-options] ...\n",
    "  pip install [options] [-e] <vcs project url> ...\n",
    "...\n",
    "```"
   ]
  },
  {
   "cell_type": "markdown",
   "id": "a124730c-15f5-4118-be21-5b136ec2ebcc",
   "metadata": {
    "editable": true,
    "slideshow": {
     "slide_type": "slide"
    },
    "tags": []
   },
   "source": [
    "## List Installed Packages: pip list\n",
    "\n",
    "```bash\n",
    "(my_project1-venv) john@desktop:~/Projects$ pip list\n",
    "Package       Version\n",
    "------------- -------\n",
    "pip           20.0.2 \n",
    "pkg-resources 0.0.0  \n",
    "setuptools    44.0.0 \n",
    "```"
   ]
  },
  {
   "cell_type": "code",
   "execution_count": null,
   "id": "ebd626b5-4a84-4736-a5ef-3742f3ed7482",
   "metadata": {
    "editable": true,
    "slideshow": {
     "slide_type": ""
    },
    "tags": []
   },
   "outputs": [],
   "source": []
  },
  {
   "cell_type": "code",
   "execution_count": null,
   "id": "a59d7cef-29d0-4e17-a634-c041501b7854",
   "metadata": {
    "editable": true,
    "slideshow": {
     "slide_type": ""
    },
    "tags": []
   },
   "outputs": [],
   "source": []
  },
  {
   "cell_type": "code",
   "execution_count": null,
   "id": "2784290d-1062-4ec9-9f75-b4896de7b67e",
   "metadata": {
    "editable": true,
    "slideshow": {
     "slide_type": ""
    },
    "tags": []
   },
   "outputs": [],
   "source": []
  },
  {
   "cell_type": "markdown",
   "id": "9844f2b3-266e-4671-a711-d869faf2d17b",
   "metadata": {},
   "source": [
    "## Resources\n",
    "\n",
    "* https://realpython.com/python-virtual-environments-a-primer/\n",
    "* https://towardsdatascience.com/comparing-python-virtual-environment-tools-9a6543643a44\n",
    "* https://towardsdatascience.com/python-virtual-environments-made-easy-fe0c603fe601"
   ]
  }
 ],
 "metadata": {
  "kernelspec": {
   "display_name": "Python 3 (ipykernel)",
   "language": "python",
   "name": "python3"
  },
  "language_info": {
   "codemirror_mode": {
    "name": "ipython",
    "version": 3
   },
   "file_extension": ".py",
   "mimetype": "text/x-python",
   "name": "python",
   "nbconvert_exporter": "python",
   "pygments_lexer": "ipython3",
   "version": "3.8.10"
  }
 },
 "nbformat": 4,
 "nbformat_minor": 5
}
