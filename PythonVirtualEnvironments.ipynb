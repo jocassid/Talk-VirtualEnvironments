{
 "cells": [
  {
   "cell_type": "markdown",
   "id": "0ffe658c-2a0a-4c35-8dce-3d38ef6a1bcb",
   "metadata": {
    "editable": true,
    "slideshow": {
     "slide_type": "slide"
    },
    "tags": []
   },
   "source": [
    "# Python Virtual Environments"
   ]
  },
  {
   "cell_type": "markdown",
   "id": "01589461-19f9-40fb-8388-37558310a6a2",
   "metadata": {
    "editable": true,
    "slideshow": {
     "slide_type": "slide"
    },
    "tags": []
   },
   "source": [
    "## What is a Virtual Environment?\n",
    "\n",
    "A combination of settings (environment variables) that control what Python interpreter is used and where the intepreter finds python modules."
   ]
  },
  {
   "cell_type": "markdown",
   "id": "00620af3-5004-4839-b16c-a7d45b8901c4",
   "metadata": {
    "editable": true,
    "slideshow": {
     "slide_type": "slide"
    },
    "tags": []
   },
   "source": [
    "## Why to use Virtual Environments?\n",
    "\n",
    "* Avoid messing up packages in system install of Python\n",
    "* Maintain per-project sets of packages (different projects require different requirements)\n",
    "* Ability to reproduce an environment"
   ]
  },
  {
   "cell_type": "markdown",
   "id": "608cc79d-caad-426f-83ac-38af0dc25058",
   "metadata": {
    "editable": true,
    "slideshow": {
     "slide_type": "slide"
    },
    "tags": []
   },
   "source": [
    "## Python Virtual Environment Tools\n",
    "\n",
    "* `virtualenv` (For Python2)\n",
    "* `venv` and `pip`\n",
    "* `conda`\n",
    "* `pipenv`\n",
    "* `poetry`"
   ]
  },
  {
   "cell_type": "markdown",
   "id": "85a43ce2-8d99-4125-99d4-54535363dd87",
   "metadata": {
    "editable": true,
    "slideshow": {
     "slide_type": "slide"
    },
    "tags": []
   },
   "source": [
    "## venv and pip\n",
    "\n",
    "* `venv` module is used to create virtual environment\n",
    "* `venv` may not have been installed when python was installed.\n",
    "  * On Windows run installer and look in optional components\n",
    "  * On Linux run a command similar to `sudo apt-get install python3-venv`\n",
    "* `pip` is used to manage packages within the virtual environment"
   ]
  },
  {
   "cell_type": "markdown",
   "id": "31eb55db-dd31-4a61-b19a-05034b48eb5f",
   "metadata": {
    "editable": true,
    "slideshow": {
     "slide_type": "slide"
    },
    "tags": []
   },
   "source": [
    "## Creating a Virtual Environment with venv\n",
    "\n",
    "```bash\n",
    "john@desktop:~$ cd Projects\n",
    "john@desktop:~/Projects$ mkdir my_project1  # project files here\n",
    "john@desktop:~/Projects$ python3 -m venv my_project1-venv  # virtual environment\n",
    "```"
   ]
  },
  {
   "cell_type": "markdown",
   "id": "d0cfc11b-7ad9-41fd-b1c7-9dd089f8931d",
   "metadata": {
    "editable": true,
    "slideshow": {
     "slide_type": "slide"
    },
    "tags": []
   },
   "source": [
    "## The Resulting Directories\n",
    "\n",
    "```bash\n",
    "john@desktop:~/Projects$ ls -l\n",
    "total 16\n",
    "drwxrwxr-x 2 john john 4096 Sep 23 22:08 my_project1\n",
    "drwxrwxr-x 6 john john 4096 Sep 23 22:09 my_project1-venv\n",
    "```"
   ]
  },
  {
   "cell_type": "markdown",
   "id": "cf5d2f40-f896-4f07-9d6a-125a13b71d2b",
   "metadata": {
    "editable": true,
    "raw_mimetype": "",
    "slideshow": {
     "slide_type": "notes"
    },
    "tags": []
   },
   "source": [
    "I tend to place the virtual environment directory next to the directory containing my source code.\n",
    "* If the source code directory gets messed up I can erase it and clone the repo.\n",
    "* If the virtual environment gets messed up, I can erase it and recreate it using the requirements.txt file that is included with the source code."
   ]
  },
  {
   "cell_type": "markdown",
   "id": "22e0686a-38f4-42b9-8458-36e2940273d9",
   "metadata": {
    "editable": true,
    "slideshow": {
     "slide_type": "slide"
    },
    "tags": []
   },
   "source": [
    "## Contents of Virtual Environment Directory\n",
    "\n",
    "```bash\n",
    "john@desktop:~/Projects$ ls my_project1-venv/\n",
    "bin  include  lib  lib64  pyvenv.cfg  share\n",
    "```\n",
    "\n",
    "* In windows you have a `Scripts` directory instead of `bin`.  This directory contains python executable for this virtual environment.\n",
    "* Packages will be installed in the `lib` directory\n"
   ]
  },
  {
   "cell_type": "markdown",
   "id": "7d34e83a-6121-4344-98fe-7067e6748a2e",
   "metadata": {
    "editable": true,
    "slideshow": {
     "slide_type": "slide"
    },
    "tags": []
   },
   "source": [
    "## Activating Your Virtual Environment\n",
    "\n",
    "**Linux & Mac**\n",
    "\n",
    "`john@desktop:~/Projects$ source ./my_project1-venv/bin/activate`\n",
    "\n",
    "**Windows (PowerShell)**\n",
    "\n",
    "`PS C:\\Users\\john\\Projects> & my_project1-venv\\Scripts\\activate.ps1`\n",
    "\n",
    "**Windows (CMD/DOS Prompt)**\n",
    "\n",
    "`C:\\Users\\john\\Projects> my_project1\\Scripts\\activate.bat`"
   ]
  },
  {
   "cell_type": "markdown",
   "id": "364db699-de7a-4e20-92fe-9fd8b8816a5c",
   "metadata": {
    "editable": true,
    "slideshow": {
     "slide_type": "slide"
    },
    "tags": []
   },
   "source": [
    "## Your Virtual Env is Now Active\n",
    "\n",
    "Note that your command line prompted has been altered to indicate the virtual environment is active\n",
    "\n",
    "`(my_project1-venv) john@desktop:~/Projects$`"
   ]
  },
  {
   "cell_type": "markdown",
   "id": "69c692f8-e39d-4f24-8ca6-676304b5a43c",
   "metadata": {
    "editable": true,
    "slideshow": {
     "slide_type": "slide"
    },
    "tags": []
   },
   "source": [
    "## Get Help: `pip help`\n",
    "\n",
    "```bash\n",
    "(my_project1-venv) john@desktop:~/Projects$ pip help\n",
    "\n",
    "Usage:   \n",
    "  pip <command> [options]\n",
    "\n",
    "Commands:\n",
    "  install                     Install packages.\n",
    "  download                    Download packages.\n",
    "...\n",
    "```"
   ]
  },
  {
   "cell_type": "markdown",
   "id": "f6e9d2bd-755a-4638-a14d-55218b56f7ca",
   "metadata": {
    "editable": true,
    "slideshow": {
     "slide_type": "slide"
    },
    "tags": []
   },
   "source": [
    "## Get Help for Specific Command\n",
    "\n",
    "```bash\n",
    "(my_project1-venv) john@desktop:~/Projects$ pip help install\n",
    "\n",
    "Usage:   \n",
    "  pip install [options] <requirement specifier> [package-index-options] ...\n",
    "  pip install [options] -r <requirements file> [package-index-options] ...\n",
    "  pip install [options] [-e] <vcs project url> ...\n",
    "...\n",
    "```"
   ]
  },
  {
   "cell_type": "markdown",
   "id": "a124730c-15f5-4118-be21-5b136ec2ebcc",
   "metadata": {
    "editable": true,
    "slideshow": {
     "slide_type": "slide"
    },
    "tags": []
   },
   "source": [
    "## List Installed Packages: pip list\n",
    "\n",
    "```bash\n",
    "(my_project1-venv) john@desktop:~/Projects$ pip list\n",
    "Package       Version\n",
    "------------- -------\n",
    "pip           20.0.2 \n",
    "pkg-resources 0.0.0  \n",
    "setuptools    44.0.0 \n",
    "```"
   ]
  },
  {
   "cell_type": "markdown",
   "id": "7cfdc8ae-5578-459e-b86b-a5ad18a533fd",
   "metadata": {
    "editable": true,
    "slideshow": {
     "slide_type": "slide"
    },
    "tags": []
   },
   "source": [
    "## Install a Package: pip install\n",
    "\n",
    "To install a specific version of a package use `==VERSION_NUMBER`.  If the version number is omitted, the latest version will be installed.\n",
    "\n",
    "```bash\n",
    "(my_project1-venv) john@desktop:~/Projects/my_project1$ pip install jocassid-commons==0.0.2\n",
    "Collecting jocassid-commons==0.0.2\n",
    "  Downloading jocassid_commons-0.0.2-py3-none-any.whl (2.3 kB)\n",
    "Installing collected packages: jocassid-commons\n",
    "Successfully installed jocassid-commons-0.0.2\n",
    "```"
   ]
  },
  {
   "cell_type": "markdown",
   "id": "5b5ad299-2199-449f-b635-11eec6dbe134",
   "metadata": {
    "editable": true,
    "slideshow": {
     "slide_type": "slide"
    },
    "tags": []
   },
   "source": [
    "## Upgrade a Package: pip install\n",
    "\n",
    "```bash\n",
    "(my_project1-venv) john@desktop:~/Projects/my_project1$pip install jocassid-commons==0.0.3\n",
    "Collecting jocassid-commons==0.0.3\n",
    "  Downloading jocassid_commons-0.0.3-py3-none-any.whl (2.5 kB)\n",
    "Installing collected packages: jocassid-commons\n",
    "  Attempting uninstall: jocassid-commons\n",
    "    Found existing installation: jocassid-commons 0.0.2\n",
    "    Uninstalling jocassid-commons-0.0.2:\n",
    "      Successfully uninstalled jocassid-commons-0.0.2\n",
    "Successfully installed jocassid-commons-0.0.3\n",
    "```"
   ]
  },
  {
   "cell_type": "markdown",
   "id": "93bdbbae-e467-4d6f-8e53-e70779d86f47",
   "metadata": {
    "editable": true,
    "slideshow": {
     "slide_type": "slide"
    },
    "tags": []
   },
   "source": [
    "## Upgrade Package to Latest Version: pip install --upgrade\n",
    "\n",
    "```bash\n",
    "(my_project1-venv) john@desktop:~/Projects/my_project1$ pip install --upgrade jocassid-commons\n",
    "Collecting jocassid-commons\n",
    "  Using cached jocassid_commons-0.0.8-py3-none-any.whl (6.4 kB)\n",
    "Installing collected packages: jocassid-commons\n",
    "  Attempting uninstall: jocassid-commons\n",
    "    Found existing installation: jocassid-commons 0.0.3\n",
    "    Uninstalling jocassid-commons-0.0.3:\n",
    "      Successfully uninstalled jocassid-commons-0.0.3\n",
    "Successfully installed jocassid-commons-0.0.8\n",
    "```"
   ]
  },
  {
   "cell_type": "markdown",
   "id": "ffe0c7c6-34e2-4c52-8b8a-1c7a02737582",
   "metadata": {
    "editable": true,
    "slideshow": {
     "slide_type": "slide"
    },
    "tags": []
   },
   "source": [
    "## Install a Package that has Dependencies\n",
    "\n",
    "```bash\n",
    "(my_project1-venv) john@desktop:~/Projects/my_project1$ pip install requests\n",
    "Collecting requests\n",
    "  Using cached requests-2.32.3-py3-none-any.whl (64 kB)\n",
    "Collecting urllib3<3,>=1.21.1\n",
    "  Downloading urllib3-2.2.3-py3-none-any.whl (126 kB)\n",
    "     |████████████████████████████████| 126 kB 1.4 MB/s \n",
    "Collecting charset-normalizer<4,>=2\n",
    "  Using cached charset_normalizer-3.3.2-cp38-cp38-manylinux_2_17_x86_64.manylinux2014_x86_64.whl (141 kB)\n",
    "Collecting certifi>=2017.4.17\n",
    "  Using cached certifi-2024.8.30-py3-none-any.whl (167 kB)\n",
    "Collecting idna<4,>=2.5\n",
    "  Downloading idna-3.10-py3-none-any.whl (70 kB)\n",
    "     |████████████████████████████████| 70 kB 6.1 MB/s \n",
    "Installing collected packages: urllib3, charset-normalizer, certifi, idna, requests\n",
    "Successfully installed certifi-2024.8.30 charset-normalizer-3.3.2 idna-3.10 requests-2.32.3 urllib3-2.2.3\n",
    "```"
   ]
  },
  {
   "cell_type": "markdown",
   "id": "3394ebb7-aadf-4edb-b52d-31d54c858edf",
   "metadata": {
    "editable": true,
    "slideshow": {
     "slide_type": "slide"
    },
    "tags": []
   },
   "source": [
    "## Show Package Details: pip show\n",
    "\n",
    "```bash\n",
    "(my_project1-venv) john@desktop:~/Projects/my_project1$ pip show requests\n",
    "Name: requests\n",
    "Version: 2.32.3\n",
    "Summary: Python HTTP for Humans.\n",
    "Home-page: https://requests.readthedocs.io\n",
    "Author: Kenneth Reitz\n",
    "Author-email: me@kennethreitz.org\n",
    "License: Apache-2.0\n",
    "Location: /home/john/Projects/my_project1-venv/lib/python3.8/site-packages\n",
    "Requires: idna, certifi, urllib3, charset-normalizer\n",
    "Required-by: \n",
    "```"
   ]
  },
  {
   "cell_type": "markdown",
   "id": "c45c6482-12fc-4008-9c22-1039f5b0008c",
   "metadata": {
    "editable": true,
    "slideshow": {
     "slide_type": "slide"
    },
    "tags": []
   },
   "source": [
    "## Create Reproducible Virtual Env: pip freeze\n",
    "\n",
    "```bash\n",
    "(my_project1-venv) john@desktop:~/Projects/my_project1$ pip freeze\n",
    "certifi==2024.8.30\n",
    "charset-normalizer==3.3.2\n",
    "idna==3.10\n",
    "jocassid-commons==0.0.8\n",
    "requests==2.32.3\n",
    "urllib3==2.2.3\n",
    "```"
   ]
  },
  {
   "cell_type": "markdown",
   "id": "38c53203-b1c9-421f-9cb5-55f376392a59",
   "metadata": {
    "editable": true,
    "slideshow": {
     "slide_type": "slide"
    },
    "tags": []
   },
   "source": [
    "## Create the requirements.txt file: pip freeze\n",
    "\n",
    "Just pipe output of `pip freeze` to requirements.txt\n",
    "\n",
    "(my_project1-venv) john@desktop:~/Projects/my_project1$ pip freeze > requirements.txt"
   ]
  },
  {
   "cell_type": "markdown",
   "id": "8609bff8-9080-4ec7-a5bf-7ebdbdf7b1fe",
   "metadata": {
    "editable": true,
    "raw_mimetype": "",
    "slideshow": {
     "slide_type": "notes"
    },
    "tags": []
   },
   "source": [
    "1. using requirements.txt as the filename is a convention\n",
    "2. you might want to edit the requirements.txt file to include only the top-level dependencies (those installed explicity with pip install commands rather than dependencies automatically installed by pip)\n",
    "3. You may want to create additional *-requirements.txt for dependencies needed only in specific environments (i.e. dev and test)"
   ]
  },
  {
   "cell_type": "markdown",
   "id": "63f68b6d-0daa-4a8e-9370-783ecb931871",
   "metadata": {
    "editable": true,
    "slideshow": {
     "slide_type": "slide"
    },
    "tags": []
   },
   "source": [
    "# Deactivate the Virtual Env: deactivate\n",
    "\n",
    "```bash\n",
    "(my_project1-venv) john@desktop:~/Projects/my_project1$ deactivate\n",
    "john@desktop:~/Projects/my_project1$ \n",
    "```"
   ]
  },
  {
   "cell_type": "markdown",
   "id": "a75f0e78-bd67-46e4-aa37-9ac0215685c1",
   "metadata": {
    "editable": true,
    "slideshow": {
     "slide_type": "slide"
    },
    "tags": []
   },
   "source": [
    "## Rebuilding my Virtual Env\n",
    "\n",
    "1. delete the virtual env.\n",
    "\n",
    "```bash\n",
    "john@desktop:~/Projects/my_project1$ rm -rf ../my_project1-venv/\n",
    "john@desktop:~/Projects/my_project1$ cd ..\n",
    "```"
   ]
  },
  {
   "cell_type": "markdown",
   "id": "94b25a45-f4d4-4ae0-9bad-953dae2f4ca1",
   "metadata": {
    "editable": true,
    "slideshow": {
     "slide_type": "slide"
    },
    "tags": []
   },
   "source": [
    "2. Create a new virtual en\n",
    "\n",
    "```bash\n",
    "john@desktop:~/Projects$ python3 -m venv my_project1-venv\n",
    "```"
   ]
  },
  {
   "cell_type": "markdown",
   "id": "0a700e1b-c2e7-40f7-89d0-c36190fcedd4",
   "metadata": {
    "editable": true,
    "slideshow": {
     "slide_type": "slide"
    },
    "tags": []
   },
   "source": [
    "3. Activate the new virtual env\n",
    "\n",
    "```bash\n",
    "john@desktop:~/Projects$ source my_project1-venv/bin/activate\n",
    "(my_project1-venv) john@desktop:~/Projects$ cd my_project1\n",
    "(my_project1-venv) john@desktop:~/Projects/my_project1$ \n",
    "```"
   ]
  },
  {
   "cell_type": "markdown",
   "id": "0f459ef5-f636-4c61-a220-a81c9e4b12c2",
   "metadata": {
    "editable": true,
    "slideshow": {
     "slide_type": "slide"
    },
    "tags": []
   },
   "source": [
    "## Install Packages Listed in requirements.txt: pip install -r\n",
    "\n",
    "```bash\n",
    "(my_project1-venv) john@desktop:~/Projects/my_project1$ pip install -r requirements.txt \n",
    "Collecting certifi==2024.8.30\n",
    "  Using cached certifi-2024.8.30-py3-none-any.whl (167 kB)\n",
    "...\n",
    "Installing collected packages: certifi, charset-normalizer, idna, jocassid-commons, urllib3, requests\n",
    "Successfully installed certifi-2024.8.30 charset-normalizer-3.3.2 idna-3.10 jocassid-commons-0.0.8 requests-2.32.3 urllib3-2.2.3\n",
    "```"
   ]
  },
  {
   "cell_type": "markdown",
   "id": "13e3c690-2cfd-4541-ba65-987515f55e50",
   "metadata": {
    "editable": true,
    "slideshow": {
     "slide_type": "slide"
    },
    "tags": []
   },
   "source": [
    "## Uninstall Package: pip uninstall\n",
    "\n",
    "```bash\n",
    "(my_project1-venv) john@ridcully:~/Projects/Talk-VirtualEnvironments/my_project1$ pip uninstall jocassid-commons\n",
    "Found existing installation: jocassid-commons 0.0.8\n",
    "Uninstalling jocassid-commons-0.0.8:\n",
    "  Would remove:\n",
    "    /home/john/Projects/Talk-VirtualEnvironments/my_project1-venv/lib/python3.8/site-packages/jocassid_commons-0.0.8.dist-info/*\n",
    "    /home/john/Projects/Talk-VirtualEnvironments/my_project1-venv/lib/python3.8/site-packages/jocassid_commons/*\n",
    "Proceed (y/n)? y\n",
    "  Successfully uninstalled jocassid-commons-0.0.8\n",
    "```"
   ]
  },
  {
   "cell_type": "markdown",
   "id": "91023f7a-073d-4993-b8b8-4146c4d0efee",
   "metadata": {
    "editable": true,
    "slideshow": {
     "slide_type": "slide"
    },
    "tags": []
   },
   "source": [
    "## Shameless Plug: pip-viz\n",
    "\n",
    "A package that I wrote to generate a diagram of pip dependencies.  This relies on `graphviz` to generate the diagram\n",
    "\n",
    "```bash\n",
    "(my_project1-venv) john@ridcully:~/Projects/Talk-VirtualEnvironments/my_project1$ pip install pip-viz\n",
    "Collecting pip-viz\n",
    "  Using cached pip_viz-0.0.4-py3-none-any.whl (3.8 kB)\n",
    "Collecting graphviz\n",
    "  Using cached graphviz-0.20.3-py3-none-any.whl (47 kB)\n",
    "Installing collected packages: graphviz, pip-viz\n",
    "Successfully installed graphviz-0.20.3 pip-viz-0.0.4\n",
    "```"
   ]
  },
  {
   "cell_type": "markdown",
   "id": "3a16b7a5-5d27-4fc0-91b3-537a38082382",
   "metadata": {
    "editable": true,
    "slideshow": {
     "slide_type": "slide"
    },
    "tags": []
   },
   "source": [
    "## pip-viz help\n",
    "\n",
    "```bash\n",
    "(my_project1-venv) john@ridcully:~/Projects/Talk-VirtualEnvironments/my_project1$ pip-viz -h\n",
    "usage: pip-viz [-h] FILENAME_ROOT\n",
    "\n",
    "positional arguments:\n",
    "  FILENAME_ROOT  This script will generate 2 files: FILENAME_ROOT.gv AND\n",
    "                 FILENAME_ROOT.gv.svg\n",
    "\n",
    "optional arguments:\n",
    "  -h, --help     show this help message and exit\n",
    "```"
   ]
  },
  {
   "cell_type": "markdown",
   "id": "1568ce1e-4769-4630-8a5f-88558b288faa",
   "metadata": {
    "editable": true,
    "slideshow": {
     "slide_type": "slide"
    },
    "tags": []
   },
   "source": [
    "## Running pip viz\n",
    "\n",
    "```bash\n",
    "(my_project1-venv) john@ridcully:~/Projects/Talk-VirtualEnvironments/my_project1$ pip-viz dependencies\n",
    "Processing certifi\n",
    "Processing charset-normalizer\n",
    "Processing graphviz\n",
    "Processing idna\n",
    "Processing pip\n",
    "Processing pip-viz\n",
    "Processing pkg-resources\n",
    "Processing requests\n",
    "Processing setuptools\n",
    "Processing urllib3\n",
    "(my_project1-venv) john@ridcully:~/Projects/Talk-VirtualEnvironments/my_project1$ \n",
    "```"
   ]
  },
  {
   "cell_type": "markdown",
   "id": "382230f9-0934-4b8f-88ab-3bac2d6183cf",
   "metadata": {
    "editable": true,
    "slideshow": {
     "slide_type": "slide"
    },
    "tags": []
   },
   "source": [
    "## pip-viz Generated Diagram dependencies.gv.svg\n",
    "\n",
    "![Image](my_project1/dependencies.gv.svg)\n"
   ]
  },
  {
   "cell_type": "code",
   "execution_count": null,
   "id": "a59d7cef-29d0-4e17-a634-c041501b7854",
   "metadata": {
    "editable": true,
    "slideshow": {
     "slide_type": ""
    },
    "tags": []
   },
   "outputs": [],
   "source": []
  },
  {
   "cell_type": "code",
   "execution_count": null,
   "id": "5864def6-e721-4ecb-9db6-6395ceeb86ba",
   "metadata": {
    "editable": true,
    "slideshow": {
     "slide_type": ""
    },
    "tags": []
   },
   "outputs": [],
   "source": []
  },
  {
   "cell_type": "code",
   "execution_count": null,
   "id": "72e104c0-73d4-44f0-9658-ec1e1f36a197",
   "metadata": {
    "editable": true,
    "slideshow": {
     "slide_type": ""
    },
    "tags": []
   },
   "outputs": [],
   "source": []
  },
  {
   "cell_type": "code",
   "execution_count": null,
   "id": "48c3dc61-341f-40ca-b5c9-17b65c9cbbf9",
   "metadata": {
    "editable": true,
    "slideshow": {
     "slide_type": ""
    },
    "tags": []
   },
   "outputs": [],
   "source": []
  },
  {
   "cell_type": "code",
   "execution_count": null,
   "id": "2784290d-1062-4ec9-9f75-b4896de7b67e",
   "metadata": {
    "editable": true,
    "slideshow": {
     "slide_type": ""
    },
    "tags": []
   },
   "outputs": [],
   "source": []
  },
  {
   "cell_type": "markdown",
   "id": "9844f2b3-266e-4671-a711-d869faf2d17b",
   "metadata": {},
   "source": [
    "## Resources\n",
    "\n",
    "* https://realpython.com/python-virtual-environments-a-primer/\n",
    "* https://towardsdatascience.com/comparing-python-virtual-environment-tools-9a6543643a44\n",
    "* https://towardsdatascience.com/python-virtual-environments-made-easy-fe0c603fe601"
   ]
  }
 ],
 "metadata": {
  "kernelspec": {
   "display_name": "Python 3 (ipykernel)",
   "language": "python",
   "name": "python3"
  },
  "language_info": {
   "codemirror_mode": {
    "name": "ipython",
    "version": 3
   },
   "file_extension": ".py",
   "mimetype": "text/x-python",
   "name": "python",
   "nbconvert_exporter": "python",
   "pygments_lexer": "ipython3",
   "version": "3.9.5"
  }
 },
 "nbformat": 4,
 "nbformat_minor": 5
}
