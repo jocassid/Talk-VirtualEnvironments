{
 "cells": [
  {
   "cell_type": "markdown",
   "id": "0ffe658c-2a0a-4c35-8dce-3d38ef6a1bcb",
   "metadata": {
    "editable": true,
    "slideshow": {
     "slide_type": "slide"
    },
    "tags": []
   },
   "source": [
    "# Python Virtual Environments"
   ]
  },
  {
   "cell_type": "markdown",
   "id": "01589461-19f9-40fb-8388-37558310a6a2",
   "metadata": {
    "editable": true,
    "slideshow": {
     "slide_type": "slide"
    },
    "tags": []
   },
   "source": [
    "### What is a Virtual Environment?\n",
    "\n",
    "A combination of settings (environment variables) that control what Python interpreter is used and where the intepreter finds python modules."
   ]
  },
  {
   "cell_type": "markdown",
   "id": "00620af3-5004-4839-b16c-a7d45b8901c4",
   "metadata": {
    "editable": true,
    "slideshow": {
     "slide_type": "slide"
    },
    "tags": []
   },
   "source": [
    "### Why to use Virtual Environments?\n",
    "\n",
    "* Avoid messing up packages in system install of Python\n",
    "* Maintain per-project sets of packages (different projects require different requirements)\n",
    "* Ability to reproduce an environment"
   ]
  },
  {
   "cell_type": "markdown",
   "id": "608cc79d-caad-426f-83ac-38af0dc25058",
   "metadata": {
    "editable": true,
    "slideshow": {
     "slide_type": "slide"
    },
    "tags": []
   },
   "source": [
    "### Python Virtual Environment Tools\n",
    "\n",
    "* `virtualenv` (For Python2)\n",
    "* `venv` and `pip`\n",
    "* `conda`\n",
    "* `pipenv`\n",
    "* `poetry`"
   ]
  },
  {
   "cell_type": "markdown",
   "id": "85a43ce2-8d99-4125-99d4-54535363dd87",
   "metadata": {
    "editable": true,
    "slideshow": {
     "slide_type": "slide"
    },
    "tags": []
   },
   "source": [
    "## venv and pip\n",
    "\n",
    "* `venv` module is used to create virtual environment\n",
    "* `venv` may not have been installed when python was installed.\n",
    "  * On Windows run installer and look in optional components\n",
    "  * On Linux run a command similar to `sudo apt-get install python3-venv`\n",
    "* `pip` is used to manage packages within the virtual environment"
   ]
  },
  {
   "cell_type": "markdown",
   "id": "31eb55db-dd31-4a61-b19a-05034b48eb5f",
   "metadata": {
    "editable": true,
    "slideshow": {
     "slide_type": "slide"
    },
    "tags": []
   },
   "source": [
    "### Creating a Virtual Environment with venv\n",
    "\n",
    "```bash\n",
    "john@desktop:~$ cd Projects\n",
    "john@desktop:~/Projects$ mkdir my_project1  # project files here\n",
    "john@desktop:~/Projects$ python3 -m venv my_project1-venv  # virtual environment\n",
    "```"
   ]
  },
  {
   "cell_type": "markdown",
   "id": "d0cfc11b-7ad9-41fd-b1c7-9dd089f8931d",
   "metadata": {
    "editable": true,
    "slideshow": {
     "slide_type": "slide"
    },
    "tags": []
   },
   "source": [
    "### The Resulting Directories\n",
    "\n",
    "```bash\n",
    "john@desktop:~/Projects$ ls -l\n",
    "total 16\n",
    "drwxrwxr-x 2 john john 4096 Sep 23 22:08 my_project1\n",
    "drwxrwxr-x 6 john john 4096 Sep 23 22:09 my_project1-venv\n",
    "```"
   ]
  },
  {
   "cell_type": "markdown",
   "id": "cf5d2f40-f896-4f07-9d6a-125a13b71d2b",
   "metadata": {
    "editable": true,
    "raw_mimetype": "",
    "slideshow": {
     "slide_type": "notes"
    },
    "tags": []
   },
   "source": [
    "I tend to place the virtual environment directory next to the directory containing my source code.\n",
    "* If the source code directory gets messed up I can erase it and clone the repo.\n",
    "* If the virtual environment gets messed up, I can erase it and recreate it using the requirements.txt file that is included with the source code."
   ]
  },
  {
   "cell_type": "markdown",
   "id": "22e0686a-38f4-42b9-8458-36e2940273d9",
   "metadata": {
    "editable": true,
    "slideshow": {
     "slide_type": "slide"
    },
    "tags": []
   },
   "source": [
    "### Contents of Virtual Environment Directory\n",
    "\n",
    "```bash\n",
    "john@desktop:~/Projects$ ls my_project1-venv/\n",
    "bin  include  lib  lib64  pyvenv.cfg  share\n",
    "```\n",
    "\n",
    "* In windows you have a `Scripts` directory instead of `bin`.  This directory contains python executable for this virtual environment.\n",
    "* Packages will be installed in the `lib` directory\n"
   ]
  },
  {
   "cell_type": "markdown",
   "id": "7d34e83a-6121-4344-98fe-7067e6748a2e",
   "metadata": {
    "editable": true,
    "slideshow": {
     "slide_type": "slide"
    },
    "tags": []
   },
   "source": [
    "### Activating Your Virtual Environment\n",
    "\n",
    "**Linux & Mac**\n",
    "\n",
    "`john@desktop:~/Projects$ source ./my_project1-venv/bin/activate`\n",
    "\n",
    "**Windows (PowerShell)**\n",
    "\n",
    "`PS C:\\Users\\john\\Projects> & my_project1-venv\\Scripts\\activate.ps1`\n",
    "\n",
    "**Windows (CMD/DOS Prompt)**\n",
    "\n",
    "`C:\\Users\\john\\Projects> my_project1\\Scripts\\activate.bat`"
   ]
  },
  {
   "cell_type": "markdown",
   "id": "364db699-de7a-4e20-92fe-9fd8b8816a5c",
   "metadata": {
    "editable": true,
    "slideshow": {
     "slide_type": "slide"
    },
    "tags": []
   },
   "source": [
    "### Your Virtual Env is Now Active\n",
    "\n",
    "Note that your command line prompted has been altered to indicate the virtual environment is active\n",
    "\n",
    "`(my_project1-venv) john@desktop:~/Projects$`"
   ]
  },
  {
   "cell_type": "markdown",
   "id": "69c692f8-e39d-4f24-8ca6-676304b5a43c",
   "metadata": {
    "editable": true,
    "slideshow": {
     "slide_type": "slide"
    },
    "tags": []
   },
   "source": [
    "### Get Help: `pip help`\n",
    "\n",
    "```bash\n",
    "(my_project1-venv) john@desktop:~/Projects$ pip help\n",
    "\n",
    "Usage:   \n",
    "  pip <command> [options]\n",
    "\n",
    "Commands:\n",
    "  install                     Install packages.\n",
    "  download                    Download packages.\n",
    "...\n",
    "```"
   ]
  },
  {
   "cell_type": "markdown",
   "id": "f6e9d2bd-755a-4638-a14d-55218b56f7ca",
   "metadata": {
    "editable": true,
    "slideshow": {
     "slide_type": "slide"
    },
    "tags": []
   },
   "source": [
    "### Get Help for Specific Command\n",
    "\n",
    "```bash\n",
    "(my_project1-venv) john@desktop:~/Projects$ pip help install\n",
    "\n",
    "Usage:   \n",
    "  pip install [options] <requirement specifier> [package-index-options] ...\n",
    "  pip install [options] -r <requirements file> [package-index-options] ...\n",
    "  pip install [options] [-e] <vcs project url> ...\n",
    "...\n",
    "```"
   ]
  },
  {
   "cell_type": "markdown",
   "id": "a124730c-15f5-4118-be21-5b136ec2ebcc",
   "metadata": {
    "editable": true,
    "slideshow": {
     "slide_type": "slide"
    },
    "tags": []
   },
   "source": [
    "### List Installed Packages: pip list\n",
    "\n",
    "```bash\n",
    "(my_project1-venv) john@desktop:~/Projects$ pip list\n",
    "Package       Version\n",
    "------------- -------\n",
    "pip           20.0.2 \n",
    "pkg-resources 0.0.0  \n",
    "setuptools    44.0.0 \n",
    "```"
   ]
  },
  {
   "cell_type": "markdown",
   "id": "7cfdc8ae-5578-459e-b86b-a5ad18a533fd",
   "metadata": {
    "editable": true,
    "slideshow": {
     "slide_type": "slide"
    },
    "tags": []
   },
   "source": [
    "### Install a Package: pip install\n",
    "\n",
    "To install a specific version of a package use `==VERSION_NUMBER`.  If the version number is omitted, the latest version will be installed.\n",
    "\n",
    "```bash\n",
    "(my_project1-venv) john@desktop:~/Projects/my_project1$ pip install jocassid-commons==0.0.2\n",
    "Collecting jocassid-commons==0.0.2\n",
    "  Downloading jocassid_commons-0.0.2-py3-none-any.whl (2.3 kB)\n",
    "Installing collected packages: jocassid-commons\n",
    "Successfully installed jocassid-commons-0.0.2\n",
    "```"
   ]
  },
  {
   "cell_type": "markdown",
   "id": "5b5ad299-2199-449f-b635-11eec6dbe134",
   "metadata": {
    "editable": true,
    "slideshow": {
     "slide_type": "slide"
    },
    "tags": []
   },
   "source": [
    "### Upgrade a Package: pip install\n",
    "\n",
    "```bash\n",
    "(my_project1-venv) john@desktop:~/Projects/my_project1$pip install jocassid-commons==0.0.3\n",
    "Collecting jocassid-commons==0.0.3\n",
    "  Downloading jocassid_commons-0.0.3-py3-none-any.whl (2.5 kB)\n",
    "Installing collected packages: jocassid-commons\n",
    "  Attempting uninstall: jocassid-commons\n",
    "    Found existing installation: jocassid-commons 0.0.2\n",
    "    Uninstalling jocassid-commons-0.0.2:\n",
    "      Successfully uninstalled jocassid-commons-0.0.2\n",
    "Successfully installed jocassid-commons-0.0.3\n",
    "```"
   ]
  },
  {
   "cell_type": "markdown",
   "id": "93bdbbae-e467-4d6f-8e53-e70779d86f47",
   "metadata": {
    "editable": true,
    "slideshow": {
     "slide_type": "slide"
    },
    "tags": []
   },
   "source": [
    "### Upgrade Package to Latest Version: pip install --upgrade\n",
    "\n",
    "```bash\n",
    "(my_project1-venv) john@desktop:~/Projects/my_project1$ pip install --upgrade jocassid-commons\n",
    "Collecting jocassid-commons\n",
    "  Using cached jocassid_commons-0.0.8-py3-none-any.whl (6.4 kB)\n",
    "Installing collected packages: jocassid-commons\n",
    "  Attempting uninstall: jocassid-commons\n",
    "    Found existing installation: jocassid-commons 0.0.3\n",
    "    Uninstalling jocassid-commons-0.0.3:\n",
    "      Successfully uninstalled jocassid-commons-0.0.3\n",
    "Successfully installed jocassid-commons-0.0.8\n",
    "```"
   ]
  },
  {
   "cell_type": "markdown",
   "id": "ffe0c7c6-34e2-4c52-8b8a-1c7a02737582",
   "metadata": {
    "editable": true,
    "slideshow": {
     "slide_type": "slide"
    },
    "tags": []
   },
   "source": [
    "### Install a Package that has Dependencies\n",
    "\n",
    "```bash\n",
    "(my_project1-venv) john@desktop:~/Projects/my_project1$ pip install requests\n",
    "Collecting requests\n",
    "  Using cached requests-2.32.3-py3-none-any.whl (64 kB)\n",
    "Collecting urllib3<3,>=1.21.1\n",
    "  Downloading urllib3-2.2.3-py3-none-any.whl (126 kB)\n",
    "     |████████████████████████████████| 126 kB 1.4 MB/s \n",
    "Collecting charset-normalizer<4,>=2\n",
    "  Using cached charset_normalizer-3.3.2-cp38-cp38-manylinux_2_17_x86_64.manylinux2014_x86_64.whl (141 kB)\n",
    "Collecting certifi>=2017.4.17\n",
    "  Using cached certifi-2024.8.30-py3-none-any.whl (167 kB)\n",
    "Collecting idna<4,>=2.5\n",
    "  Downloading idna-3.10-py3-none-any.whl (70 kB)\n",
    "     |████████████████████████████████| 70 kB 6.1 MB/s \n",
    "Installing collected packages: urllib3, charset-normalizer, certifi, idna, requests\n",
    "Successfully installed certifi-2024.8.30 charset-normalizer-3.3.2 idna-3.10 requests-2.32.3 urllib3-2.2.3\n",
    "```"
   ]
  },
  {
   "cell_type": "markdown",
   "id": "3394ebb7-aadf-4edb-b52d-31d54c858edf",
   "metadata": {
    "editable": true,
    "slideshow": {
     "slide_type": "slide"
    },
    "tags": []
   },
   "source": [
    "### Show Package Details: pip show\n",
    "\n",
    "```bash\n",
    "(my_project1-venv) john@desktop:~/Projects/my_project1$ pip show requests\n",
    "Name: requests\n",
    "Version: 2.32.3\n",
    "Summary: Python HTTP for Humans.\n",
    "Home-page: https://requests.readthedocs.io\n",
    "Author: Kenneth Reitz\n",
    "Author-email: me@kennethreitz.org\n",
    "License: Apache-2.0\n",
    "Location: /home/john/Projects/my_project1-venv/lib/python3.8/site-packages\n",
    "Requires: idna, certifi, urllib3, charset-normalizer\n",
    "Required-by: \n",
    "```"
   ]
  },
  {
   "cell_type": "markdown",
   "id": "c45c6482-12fc-4008-9c22-1039f5b0008c",
   "metadata": {
    "editable": true,
    "slideshow": {
     "slide_type": "slide"
    },
    "tags": []
   },
   "source": [
    "### Create Reproducible Virtual Env: pip freeze\n",
    "\n",
    "```bash\n",
    "(my_project1-venv) john@desktop:~/Projects/my_project1$ pip freeze\n",
    "certifi==2024.8.30\n",
    "charset-normalizer==3.3.2\n",
    "idna==3.10\n",
    "jocassid-commons==0.0.8\n",
    "requests==2.32.3\n",
    "urllib3==2.2.3\n",
    "```"
   ]
  },
  {
   "cell_type": "markdown",
   "id": "38c53203-b1c9-421f-9cb5-55f376392a59",
   "metadata": {
    "editable": true,
    "slideshow": {
     "slide_type": "slide"
    },
    "tags": []
   },
   "source": [
    "### Create the requirements.txt file: pip freeze\n",
    "\n",
    "Just pipe output of `pip freeze` to requirements.txt\n",
    "\n",
    "(my_project1-venv) john@desktop:~/Projects/my_project1$ pip freeze > requirements.txt"
   ]
  },
  {
   "cell_type": "markdown",
   "id": "8609bff8-9080-4ec7-a5bf-7ebdbdf7b1fe",
   "metadata": {
    "editable": true,
    "raw_mimetype": "",
    "slideshow": {
     "slide_type": "notes"
    },
    "tags": []
   },
   "source": [
    "1. using requirements.txt as the filename is a convention\n",
    "2. you might want to edit the requirements.txt file to include only the top-level dependencies (those installed explicity with pip install commands rather than dependencies automatically installed by pip)\n",
    "3. You may want to create additional *-requirements.txt for dependencies needed only in specific environments (i.e. dev and test)"
   ]
  },
  {
   "cell_type": "markdown",
   "id": "63f68b6d-0daa-4a8e-9370-783ecb931871",
   "metadata": {
    "editable": true,
    "slideshow": {
     "slide_type": "slide"
    },
    "tags": []
   },
   "source": [
    "### Deactivate the Virtual Env: deactivate\n",
    "\n",
    "```bash\n",
    "(my_project1-venv) john@desktop:~/Projects/my_project1$ deactivate\n",
    "john@desktop:~/Projects/my_project1$ \n",
    "```"
   ]
  },
  {
   "cell_type": "markdown",
   "id": "a75f0e78-bd67-46e4-aa37-9ac0215685c1",
   "metadata": {
    "editable": true,
    "slideshow": {
     "slide_type": "slide"
    },
    "tags": []
   },
   "source": [
    "### Rebuilding my Virtual Env\n",
    "\n",
    "1. delete the virtual env.\n",
    "\n",
    "```bash\n",
    "john@desktop:~/Projects/my_project1$ rm -rf ../my_project1-venv/\n",
    "john@desktop:~/Projects/my_project1$ cd ..\n",
    "```"
   ]
  },
  {
   "cell_type": "markdown",
   "id": "94b25a45-f4d4-4ae0-9bad-953dae2f4ca1",
   "metadata": {
    "editable": true,
    "slideshow": {
     "slide_type": "slide"
    },
    "tags": []
   },
   "source": [
    "2. Create a new virtual en\n",
    "\n",
    "```bash\n",
    "john@desktop:~/Projects$ python3 -m venv my_project1-venv\n",
    "```"
   ]
  },
  {
   "cell_type": "markdown",
   "id": "0a700e1b-c2e7-40f7-89d0-c36190fcedd4",
   "metadata": {
    "editable": true,
    "slideshow": {
     "slide_type": "slide"
    },
    "tags": []
   },
   "source": [
    "3. Activate the new virtual env\n",
    "\n",
    "```bash\n",
    "john@desktop:~/Projects$ source my_project1-venv/bin/activate\n",
    "(my_project1-venv) john@desktop:~/Projects$ cd my_project1\n",
    "(my_project1-venv) john@desktop:~/Projects/my_project1$ \n",
    "```"
   ]
  },
  {
   "cell_type": "markdown",
   "id": "0f459ef5-f636-4c61-a220-a81c9e4b12c2",
   "metadata": {
    "editable": true,
    "slideshow": {
     "slide_type": "slide"
    },
    "tags": []
   },
   "source": [
    "### Install Packages Listed in requirements.txt: pip install -r\n",
    "\n",
    "```bash\n",
    "(my_project1-venv) john@desktop:~/Projects/my_project1$ pip install -r requirements.txt \n",
    "Collecting certifi==2024.8.30\n",
    "  Using cached certifi-2024.8.30-py3-none-any.whl (167 kB)\n",
    "...\n",
    "Installing collected packages: certifi, charset-normalizer, idna, jocassid-commons, urllib3, requests\n",
    "Successfully installed certifi-2024.8.30 charset-normalizer-3.3.2 idna-3.10 jocassid-commons-0.0.8 requests-2.32.3 urllib3-2.2.3\n",
    "```"
   ]
  },
  {
   "cell_type": "markdown",
   "id": "13e3c690-2cfd-4541-ba65-987515f55e50",
   "metadata": {
    "editable": true,
    "slideshow": {
     "slide_type": "slide"
    },
    "tags": []
   },
   "source": [
    "### Uninstall Package: pip uninstall\n",
    "\n",
    "```bash\n",
    "(my_project1-venv) john@ridcully:~/Projects/Talk-VirtualEnvironments/my_project1$ pip uninstall jocassid-commons\n",
    "Found existing installation: jocassid-commons 0.0.8\n",
    "Uninstalling jocassid-commons-0.0.8:\n",
    "  Would remove:\n",
    "    /home/john/Projects/Talk-VirtualEnvironments/my_project1-venv/lib/python3.8/site-packages/jocassid_commons-0.0.8.dist-info/*\n",
    "    /home/john/Projects/Talk-VirtualEnvironments/my_project1-venv/lib/python3.8/site-packages/jocassid_commons/*\n",
    "Proceed (y/n)? y\n",
    "  Successfully uninstalled jocassid-commons-0.0.8\n",
    "```"
   ]
  },
  {
   "cell_type": "markdown",
   "id": "91023f7a-073d-4993-b8b8-4146c4d0efee",
   "metadata": {
    "editable": true,
    "slideshow": {
     "slide_type": "slide"
    },
    "tags": []
   },
   "source": [
    "## Shameless Plug: pip-viz\n",
    "\n",
    "A package that I wrote to generate a diagram of pip dependencies.  This relies on `graphviz` to generate the diagram\n",
    "\n",
    "```bash\n",
    "(my_project1-venv) john@ridcully:~/Projects/Talk-VirtualEnvironments/my_project1$ pip install pip-viz\n",
    "Collecting pip-viz\n",
    "  Using cached pip_viz-0.0.4-py3-none-any.whl (3.8 kB)\n",
    "Collecting graphviz\n",
    "  Using cached graphviz-0.20.3-py3-none-any.whl (47 kB)\n",
    "Installing collected packages: graphviz, pip-viz\n",
    "Successfully installed graphviz-0.20.3 pip-viz-0.0.4\n",
    "```"
   ]
  },
  {
   "cell_type": "markdown",
   "id": "3a16b7a5-5d27-4fc0-91b3-537a38082382",
   "metadata": {
    "editable": true,
    "slideshow": {
     "slide_type": "slide"
    },
    "tags": []
   },
   "source": [
    "### pip-viz help\n",
    "\n",
    "```bash\n",
    "(my_project1-venv) john@ridcully:~/Projects/Talk-VirtualEnvironments/my_project1$ pip-viz -h\n",
    "usage: pip-viz [-h] FILENAME_ROOT\n",
    "\n",
    "positional arguments:\n",
    "  FILENAME_ROOT  This script will generate 2 files: FILENAME_ROOT.gv AND\n",
    "                 FILENAME_ROOT.gv.svg\n",
    "\n",
    "optional arguments:\n",
    "  -h, --help     show this help message and exit\n",
    "```"
   ]
  },
  {
   "cell_type": "markdown",
   "id": "1568ce1e-4769-4630-8a5f-88558b288faa",
   "metadata": {
    "editable": true,
    "slideshow": {
     "slide_type": "slide"
    },
    "tags": []
   },
   "source": [
    "### Running pip viz\n",
    "\n",
    "```bash\n",
    "(my_project1-venv) john@ridcully:~/Projects/Talk-VirtualEnvironments/my_project1$ pip-viz dependencies\n",
    "Processing certifi\n",
    "Processing charset-normalizer\n",
    "Processing graphviz\n",
    "Processing idna\n",
    "Processing pip\n",
    "Processing pip-viz\n",
    "Processing pkg-resources\n",
    "Processing requests\n",
    "Processing setuptools\n",
    "Processing urllib3\n",
    "(my_project1-venv) john@ridcully:~/Projects/Talk-VirtualEnvironments/my_project1$ \n",
    "```"
   ]
  },
  {
   "cell_type": "markdown",
   "id": "382230f9-0934-4b8f-88ab-3bac2d6183cf",
   "metadata": {
    "editable": true,
    "slideshow": {
     "slide_type": "slide"
    },
    "tags": []
   },
   "source": [
    "### pip-viz Generated Diagram dependencies.gv.svg\n",
    "\n",
    "![Image](my_project1/dependencies.gv.svg)\n"
   ]
  },
  {
   "cell_type": "markdown",
   "id": "26ed577e-34a6-469c-8e6f-de3079f2833c",
   "metadata": {
    "editable": true,
    "slideshow": {
     "slide_type": "slide"
    },
    "tags": []
   },
   "source": [
    "## Conda\n",
    "\n",
    "* pip may install packages that need to compile some sort of extension (i.e. Numpy is an extention to python that contains a library in C that allows python to run math operations nearly as fast as native code)\n",
    "* The compile step usually happens automatically on Linux (and Mac?)\n",
    "* Conda provides pre-compiled versions of these packages which is handy for OSs that don't ship with compilers (i.e. Windows and Mac?)"
   ]
  },
  {
   "cell_type": "markdown",
   "id": "949077ad-3cd4-477d-9d6d-95e543f6905f",
   "metadata": {
    "editable": true,
    "slideshow": {
     "slide_type": "notes"
    },
    "tags": []
   },
   "source": [
    "**A Couple Observations on Conda**\n",
    "\n",
    "* Tends to go for a leading edge (i.e. packaged with a Python 3.12 interpreter, makes it easy to upgrade to the latest compatible version of packages)\n",
    "* Output of command is rather verbose"
   ]
  },
  {
   "cell_type": "markdown",
   "id": "51d83392-d65b-40fd-9586-c5158cc4993d",
   "metadata": {
    "editable": true,
    "slideshow": {
     "slide_type": "slide"
    },
    "tags": []
   },
   "source": [
    "### Conda vs. Anaconda\n",
    "\n",
    "* Both are supported by Anaconda Inc (formerly Continuum Analytics?)\n",
    "* [Conda](https://conda.io) is the package manager\n",
    "* [Anaconda](https://www.anaconda.com/) is a distribution of data science tools (A Jupyter environment with the standard libraries already installed, and other useful tools)\n",
    "* There is a free-tier of Anaconda\n",
    "* Conda may be installed independently of Anaconda"
   ]
  },
  {
   "cell_type": "markdown",
   "id": "a44b11f0-3a0c-4121-8ffa-e3eaa7a5cab5",
   "metadata": {
    "editable": true,
    "slideshow": {
     "slide_type": "slide"
    },
    "tags": []
   },
   "source": [
    "### Miniconda Actually\n",
    "\n",
    "> Miniconda is a free minimal installer for conda. It is a small bootstrap version of Anaconda that includes only conda, Python, the packages they both depend on, and a small number of other useful packages (like pip, zlib, and a few others)."
   ]
  },
  {
   "cell_type": "markdown",
   "id": "d34228f3-c3d0-4d6e-955e-5e996a8e8b14",
   "metadata": {
    "editable": true,
    "slideshow": {
     "slide_type": "slide"
    },
    "tags": []
   },
   "source": [
    "### Minconda Download & install\n",
    "\n",
    "* Download installer from [https://docs.anaconda.com/miniconda/](https://docs.anaconda.com/miniconda/)\n",
    "* Instructions on this page\n",
    "* For Mac and Linux you need to run a `conda init SHELL` to modify your shell settings"
   ]
  },
  {
   "cell_type": "markdown",
   "id": "f13fa0b8-6ec2-4157-b429-e93f55e3703a",
   "metadata": {
    "editable": true,
    "slideshow": {
     "slide_type": "slide"
    },
    "tags": []
   },
   "source": [
    "```bash\n",
    "john@desktop:~/miniconda3$ bash Miniconda3-latest-Linux-x86_64.sh -b -u -p ~/miniconda3/\n",
    "PREFIX=/home/john/miniconda3\n",
    "Unpacking payload ...\n",
    "\n",
    "Installing base environment...\n",
    "\n",
    "Preparing transaction: ...working... done\n",
    "Executing transaction: ...working... done\n",
    "installation finished.\n",
    "WARNING:\n",
    "    You currently have a PYTHONPATH environment variable set. This may cause\n",
    "    unexpected behavior when running the Python interpreter in Miniconda3.\n",
    "    For best results, please verify that your PYTHONPATH only points to\n",
    "    directories of packages that are compatible with the Python interpreter\n",
    "    in Miniconda3: /home/john/miniconda3\n",
    "john@desktop:~/miniconda3$ unset PYTHONPATH\n",
    "```"
   ]
  },
  {
   "cell_type": "markdown",
   "id": "9f7ce99e-a8c5-4959-85d4-366518dd63a3",
   "metadata": {
    "editable": true,
    "slideshow": {
     "slide_type": "slide"
    },
    "tags": []
   },
   "source": [
    "```bash\n",
    "john@desktop:~/miniconda3$ ~/miniconda3/bin/conda init bash\n",
    "no change     /home/john/miniconda3/condabin/conda\n",
    "no change     /home/john/miniconda3/bin/conda\n",
    "no change     /home/john/miniconda3/bin/conda-env\n",
    "no change     /home/john/miniconda3/bin/activate\n",
    "no change     /home/john/miniconda3/bin/deactivate\n",
    "no change     /home/john/miniconda3/etc/profile.d/conda.sh\n",
    "no change     /home/john/miniconda3/etc/fish/conf.d/conda.fish\n",
    "no change     /home/john/miniconda3/shell/condabin/Conda.psm1\n",
    "no change     /home/john/miniconda3/shell/condabin/conda-hook.ps1\n",
    "no change     /home/john/miniconda3/lib/python3.12/site-packages/xontrib/conda.xsh\n",
    "no change     /home/john/miniconda3/etc/profile.d/conda.csh\n",
    "modified      /home/john/.bashrc\n",
    "\n",
    "==> For changes to take effect, close and re-open your current shell. <==\n",
    "```"
   ]
  },
  {
   "cell_type": "markdown",
   "id": "c0e0f941-cd85-4d77-9de0-908925ae52cc",
   "metadata": {
    "editable": true,
    "slideshow": {
     "slide_type": "slide"
    },
    "tags": []
   },
   "source": [
    "### After re-starting the shell \n",
    "\n",
    "```bash\n",
    "(base) john@desktop:~/Projects$ cd ~/Projects/my_project2\n",
    "(base) john@desktop:~/Projects/my_project2$ \n",
    "```"
   ]
  },
  {
   "cell_type": "markdown",
   "id": "b0701d8a-9498-4a5a-b66e-017857e83307",
   "metadata": {
    "editable": true,
    "slideshow": {
     "slide_type": "slide"
    },
    "tags": []
   },
   "source": [
    "### Conda List Comands: conda --help\n",
    "\n",
    "```bash\n",
    "(base) john@desktop:~/Projects/my_project2$ conda --help\n",
    "usage: conda [-h] [-v] [--no-plugins] [-V] COMMAND ...\n",
    "\n",
    "conda is a tool for managing and deploying applications, environments and packages.\n",
    "\n",
    "options:\n",
    "  -h, --help          Show this help message and exit.\n",
    "...\n",
    "\n",
    "commands:\n",
    "  The following built-in and plugins subcommands are available.\n",
    "\n",
    "  COMMAND\n",
    "    activate          Activate a conda environment.\n",
    "    clean             Remove unused packages and caches.\n",
    "```"
   ]
  },
  {
   "cell_type": "markdown",
   "id": "494bf8cb-370f-4245-9649-40a759311bc5",
   "metadata": {
    "editable": true,
    "slideshow": {
     "slide_type": "notes"
    },
    "tags": []
   },
   "source": [
    "If you just do a `conda help` it just spits out a list of commands in a single wrapped line"
   ]
  },
  {
   "cell_type": "markdown",
   "id": "f667407b-a473-45ba-9166-bccf9c567952",
   "metadata": {
    "editable": true,
    "slideshow": {
     "slide_type": "slide"
    },
    "tags": []
   },
   "source": [
    "## Help on Specific Command: conda COMMAND --help\n",
    "\n",
    "```bash\n",
    "(base) john@desktop:~/Projects$ conda activate --help\n",
    "\n",
    "ActivateHelp: usage: conda activate [-h] [--[no-]stack] [env_name_or_prefix]\n",
    "...\n",
    "```"
   ]
  },
  {
   "cell_type": "markdown",
   "id": "4824395c-be9d-4814-b7e2-3b4df637bf77",
   "metadata": {
    "editable": true,
    "slideshow": {
     "slide_type": "slide"
    },
    "tags": []
   },
   "source": [
    "### Conda Create Virtual Environment: conda create\n",
    "\n",
    "```bash\n",
    "(base) john@desktop:~/Projects/my_project2$ conda create -n my_project2\n",
    "Channels:\n",
    " - defaults\n",
    "Platform: linux-64\n",
    "Collecting package metadata (repodata.json): done\n",
    "Solving environment: done\n",
    "\n",
    "## Package Plan ##\n",
    "  environment location: /home/john/miniconda3/envs/my_project2\n",
    "\n",
    "Proceed ([y]/n)? y\n",
    "...\n",
    "```"
   ]
  },
  {
   "cell_type": "markdown",
   "id": "1c320323-fe23-443e-95f6-66d69f82f0ec",
   "metadata": {
    "editable": true,
    "slideshow": {
     "slide_type": "slide"
    },
    "tags": []
   },
   "source": [
    "### Create Venv With Specified Packages\n",
    "\n",
    "```bash\n",
    "(base) john@desktop:~/Projects/my_project2$ conda create -n my_project3 python numpy pandas\n",
    "...\n",
    "\n",
    "## Package Plan ##\n",
    "  environment location: /home/john/miniconda3/envs/my_project3\n",
    "  added / updated specs:\n",
    "    - numpy\n",
    "    ...\n",
    "\n",
    "The following packages will be downloaded:\n",
    "    package                    |            build\n",
    "    ---------------------------|-----------------\n",
    "    ...\n",
    "    wheel-0.44.0               |  py312h06a4308_0         141 KB\n",
    "    ------------------------------------------------------------\n",
    "                                           Total:       258.0 MB\n",
    "\n",
    "The following NEW packages will be INSTALLED:\n",
    "  _libgcc_mutex      pkgs/main/linux-64::_libgcc_mutex-0.1-main \n",
    "  ...\n",
    "  zlib               pkgs/main/linux-64::zlib-1.2.13-h5eee18b_1 \n",
    "...\n",
    "```"
   ]
  },
  {
   "cell_type": "markdown",
   "id": "1e147755-cf89-4f2b-917f-f92646ab971f",
   "metadata": {
    "editable": true,
    "slideshow": {
     "slide_type": "slide"
    },
    "tags": []
   },
   "source": [
    "### List Virtual Environments: conda info\n",
    "\n",
    "```bash\n",
    "(base) john@desktop:~/Projects$ conda info --envs\n",
    "# conda environments:\n",
    "#\n",
    "base                  *  /home/john/miniconda3\n",
    "my_project2              /home/john/miniconda3/envs/my_project2\n",
    "my_project3              /home/john/miniconda3/envs/my_project3\n",
    "```"
   ]
  },
  {
   "cell_type": "markdown",
   "id": "055fa515-bcf8-4bad-b030-d8dfaefa88f7",
   "metadata": {
    "editable": true,
    "slideshow": {
     "slide_type": "slide"
    },
    "tags": []
   },
   "source": [
    "### Activate Virtual Environment: conda activate\n",
    "\n",
    "```bash\n",
    "(base) john@desktop:~/Projects$ mkdir my_project3  # A place for source code\n",
    "(base) john@desktop:~/Projects$ conda activate my_project3\n",
    "(my_project3) john@desktop:~/Projects$ \n",
    "```"
   ]
  },
  {
   "cell_type": "markdown",
   "id": "2e205a30-cbdf-4c03-8475-1bd0a37982ba",
   "metadata": {
    "editable": true,
    "slideshow": {
     "slide_type": "slide"
    },
    "tags": []
   },
   "source": [
    "### Deactivate Virtual Environment: conda activate\n",
    "\n",
    "`conda activate` without naming a virtual environment returns you to the `(base)` environment\n",
    "\n",
    "```bash\n",
    "(my_project3) john@desktop:~/Projects$ conda activate\n",
    "(base) john@ridcully:~/Projects$ \n",
    "```\n",
    "\n",
    "`conda deactivate` also works"
   ]
  },
  {
   "cell_type": "markdown",
   "id": "2a459f17-0950-47a6-b004-555892880028",
   "metadata": {
    "editable": true,
    "slideshow": {
     "slide_type": "slide"
    },
    "tags": []
   },
   "source": [
    "### Install Packages: conda install\n",
    "\n",
    "```bash\n",
    "(my_project3) john@desktop:~/Projects$ conda install requests\n",
    "...\n",
    "The following NEW packages will be INSTALLED:\n",
    "\n",
    "  brotli-python      pkgs/main/linux-64::brotli-python-1.0.9-py312h6a678d5_8 \n",
    "  certifi            pkgs/main/linux-64::certifi-2024.8.30-py312h06a4308_0 \n",
    "...\n",
    "```"
   ]
  },
  {
   "cell_type": "markdown",
   "id": "b0724e31-fb8b-4ffd-a601-868a452a542f",
   "metadata": {
    "editable": true,
    "slideshow": {
     "slide_type": "slide"
    },
    "tags": []
   },
   "source": [
    "### List Installed Packages: conda list\n",
    "\n",
    "```bash\n",
    "(my_project3) john@desktop:~/Projects$ conda list\n",
    "# packages in environment at /home/john/miniconda3/envs/my_project3:\n",
    "#\n",
    "# Name                    Version                   Build  Channel\n",
    "_libgcc_mutex             0.1                        main  \n",
    "_openmp_mutex             5.1                       1_gnu  \n",
    "blas                      1.0                         mkl  \n",
    "...\n",
    "```"
   ]
  },
  {
   "cell_type": "markdown",
   "id": "06b6deb9-bc66-448d-bdae-3a3d630f84bd",
   "metadata": {
    "editable": true,
    "slideshow": {
     "slide_type": "slide"
    },
    "tags": []
   },
   "source": [
    "### Filter List of Installed Packages: conda list REGEX\n",
    "\n",
    "Handily, you can filter the list of installed packages.\n",
    "\n",
    "```bash\n",
    "(my_project3) john@desktop:~/Projects$ conda list matplotlib\n",
    "# packages in environment at /home/john/miniconda3:\n",
    "#\n",
    "# Name                    Version                   Build  Channel\n",
    "matplotlib                3.9.2           py312h06a4308_0  \n",
    "matplotlib-base           3.9.2           py312h66fe004_0  \n",
    "```"
   ]
  },
  {
   "cell_type": "markdown",
   "id": "e78b34c7-2b79-49f4-8e33-b615b274af94",
   "metadata": {
    "editable": true,
    "slideshow": {
     "slide_type": "slide"
    },
    "tags": []
   },
   "source": [
    "### Install a Specific Version of a Package: conda install\n",
    "\n",
    "By specifying a specific version of a package you can upgrade/downgrade a package\n",
    "\n",
    "```bash\n",
    "(my_project3) john@desktop:~/Projects$ conda install requests==2.31.0\n",
    "```"
   ]
  },
  {
   "cell_type": "markdown",
   "id": "b3a69c12-8bd8-4585-87be-6d0eea94456d",
   "metadata": {
    "editable": true,
    "slideshow": {
     "slide_type": "slide"
    },
    "tags": []
   },
   "source": [
    "### Update Package to Latest Compatible Version\n",
    "\n",
    "To upgrate 1 package to latest possible version\n",
    "\n",
    "`conda update`\n",
    "\n",
    "Upgrate all packages to latest possible version\n",
    "\n",
    "`conda update --update-all`\n",
    "\n",
    "To update conda, deactivate virtual environment (switch to base environment first)\n",
    "\n",
    "```bash\n",
    "(my_project3) john@ridcully:~/Projects/Talk-VirtualEnvironments$ conda activate\n",
    "(base) john@ridcully:~/Projects/Talk-VirtualEnvironments$ conda update conda\n",
    "```"
   ]
  },
  {
   "cell_type": "markdown",
   "id": "acbd533e-4828-4a6b-9b95-ec633f2672c5",
   "metadata": {
    "editable": true,
    "slideshow": {
     "slide_type": "slide"
    },
    "tags": []
   },
   "source": [
    "### Create a Reproducible Environment: conda list --export\n",
    "\n",
    "```bash\n",
    "(my_project3) john@desktop:~/Projects$ conda list --export\n",
    "# This file may be used to create an environment using:\n",
    "# $ conda create --name <env> --file <this file>\n",
    "# platform: linux-64\n",
    "_libgcc_mutex=0.1=main\n",
    "_openmp_mutex=5.1=1_gnu\n",
    "blas=1.0=mkl\n",
    "bottleneck=1.3.7=py312ha883a20_0\n",
    "brotli-python=1.0.9=py312h6a678d5_8\n",
    "```\n",
    "\n",
    "**Redirect to a File so Virtual Environment may be Reproduced**\n",
    "`conda list --export > package-list.txt`"
   ]
  },
  {
   "cell_type": "markdown",
   "id": "c9479b90-2c5f-4f7f-8545-4eac2b63665d",
   "metadata": {
    "editable": true,
    "slideshow": {
     "slide_type": "notes"
    },
    "tags": []
   },
   "source": [
    "**Note**\n",
    "* this is a different format than the one used by `pip freeze`\n",
    "* redirect stdout to create a file that can be used to rebuild"
   ]
  },
  {
   "cell_type": "markdown",
   "id": "0d14dfa9-db7c-40c9-91f7-5f1ff8c39267",
   "metadata": {
    "editable": true,
    "slideshow": {
     "slide_type": "slide"
    },
    "tags": []
   },
   "source": [
    "### Delete the Virtual environment:\n",
    "\n",
    "```bash\n",
    "(my_project3) john@desktop:~/Projects$ conda deactivate  # can't delete active virtual environment\n",
    "(base) john@desktop:~/Projects$ conda env remove -n my_project3\n",
    "\n",
    "Remove all packages in environment /home/john/miniconda3/envs/my_project3:\n",
    "\n",
    "Everything found within the environment (/home/john/miniconda3/envs/my_project3), including any conda environment configurations and any non-conda files, will be deleted. Do you wish to continue?\n",
    " (y/[n])? y\n",
    "```"
   ]
  },
  {
   "cell_type": "markdown",
   "id": "1d3a8498-7cdf-48ec-a23b-d93cb49b8c68",
   "metadata": {
    "editable": true,
    "slideshow": {
     "slide_type": "slide"
    },
    "tags": []
   },
   "source": [
    "### Re-create the Virtual Environment\n",
    "\n",
    "`conda create --name my_project3 --file package-list.txt`"
   ]
  },
  {
   "cell_type": "markdown",
   "id": "9844f2b3-266e-4671-a711-d869faf2d17b",
   "metadata": {
    "editable": true,
    "slideshow": {
     "slide_type": "slide"
    },
    "tags": []
   },
   "source": [
    "## Resources\n",
    "\n",
    "* https://pip.pypa.io/en/stable/\n",
    "* https://www.anaconda.com/\n",
    "* https://anaconda.org/\n",
    "* https://docs.conda.io/\n",
    "* https://docs.conda.io/projects/conda/en/stable/user-guide/getting-started.html\n"
   ]
  }
 ],
 "metadata": {
  "kernelspec": {
   "display_name": "Python 3 (ipykernel)",
   "language": "python",
   "name": "python3"
  },
  "language_info": {
   "codemirror_mode": {
    "name": "ipython",
    "version": 3
   },
   "file_extension": ".py",
   "mimetype": "text/x-python",
   "name": "python",
   "nbconvert_exporter": "python",
   "pygments_lexer": "ipython3",
   "version": "3.9.5"
  }
 },
 "nbformat": 4,
 "nbformat_minor": 5
}
